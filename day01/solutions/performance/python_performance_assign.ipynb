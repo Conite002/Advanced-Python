{
 "cells": [
  {
   "cell_type": "code",
   "execution_count": 1,
   "id": "d13af0d7",
   "metadata": {},
   "outputs": [],
   "source": [
    "import pandas as pd\n",
    "import timeit\n",
    "import numpy as np\n",
    "from poly_cy import poly_cy\n",
    "from fib_cy import fib_cy\n",
    "\n"
   ]
  },
  {
   "cell_type": "markdown",
   "id": "9e8892ba",
   "metadata": {},
   "source": [
    "<h1 align=\"center\">Python performance exercises</h1>"
   ]
  },
  {
   "cell_type": "markdown",
   "id": "282983fc",
   "metadata": {},
   "source": [
    "## Python best practices exercises"
   ]
  },
  {
   "cell_type": "markdown",
   "id": "5efcd4d3",
   "metadata": {},
   "source": [
    "### Exercise 1\n",
    "\n",
    "considering the following function for concatenating list strings with delimiter."
   ]
  },
  {
   "cell_type": "code",
   "execution_count": 2,
   "id": "8d029815",
   "metadata": {},
   "outputs": [],
   "source": [
    "def ft_concatenate(l_strings, d):\n",
    "    \"\"\"concatenate list of strings into one string separated by delimiter\"\"\"\n",
    "    res = l_strings[0]\n",
    "    for e in l_strings[1:]:\n",
    "        res = res + d + e\n",
    "    return res"
   ]
  },
  {
   "cell_type": "code",
   "execution_count": 3,
   "id": "2425a5ba",
   "metadata": {},
   "outputs": [
    {
     "data": {
      "text/plain": [
       "'W-e-l-c-o-m-e'"
      ]
     },
     "execution_count": 3,
     "metadata": {},
     "output_type": "execute_result"
    }
   ],
   "source": [
    "ft_concatenate(\"Welcome\", \"-\")"
   ]
  },
  {
   "cell_type": "markdown",
   "id": "18ae5106",
   "metadata": {},
   "source": [
    "- profile the function and identify the bottlenecks.\n",
    "- improve speed up of the function\n",
    "*Hint: you may need to look to the string functions in python documentation*"
   ]
  },
  {
   "cell_type": "code",
   "execution_count": 4,
   "id": "024f9b98",
   "metadata": {},
   "outputs": [
    {
     "data": {
      "text/plain": [
       "'w-e-l-c-o-m-e'"
      ]
     },
     "execution_count": 4,
     "metadata": {},
     "output_type": "execute_result"
    }
   ],
   "source": [
    "\"-\".join(\"welcome\")"
   ]
  },
  {
   "cell_type": "markdown",
   "id": "554e4d1d",
   "metadata": {},
   "source": [
    "### Exercise 2\n",
    "\n",
    "In this exercise you will solve the following problem using two methods bruteforce method, and fast method.\n",
    "\n",
    "**Problem:** You are given a list of n integers, and your task is to calculate the number of distinct values in the list.\n",
    "\n",
    "**Example**\n",
    "- Input:\n",
    "5\n",
    "2 3 2 2 3\n",
    "\n",
    "- Output:\n",
    "2\n",
    "\n",
    "**Implement the following methods:**\n",
    "\n",
    "1. **bruteforce method:** create an empty list and start adding items for the given list without adding the previous item add, at the end the result list will contain unique values, print lenght of the list and you are done. \n",
    "2. **fast method** think of using Set data structure.\n",
    "\n",
    "- time the two methods, what do you think?"
   ]
  },
  {
   "cell_type": "code",
   "execution_count": 5,
   "id": "f59fffb9",
   "metadata": {},
   "outputs": [
    {
     "data": {
      "text/plain": [
       "3"
      ]
     },
     "execution_count": 5,
     "metadata": {},
     "output_type": "execute_result"
    }
   ],
   "source": [
    "# bruteforce method\n",
    "items = [5, 2, 2, 3, 2, 3, 5]\n",
    "def brute_force(items): \n",
    "    L = []\n",
    "    for item in items:\n",
    "        if item not in L:\n",
    "            L.append(item)\n",
    "    return len(L)\n",
    "brute_force(items)"
   ]
  },
  {
   "cell_type": "code",
   "execution_count": 6,
   "id": "4525cb5f",
   "metadata": {},
   "outputs": [],
   "source": [
    "# fast method\n",
    "def fast(items):\n",
    "    uniques = set(items)\n",
    "    return len(uniques)"
   ]
  },
  {
   "cell_type": "code",
   "execution_count": 7,
   "id": "bbb92ae1",
   "metadata": {},
   "outputs": [
    {
     "name": "stdout",
     "output_type": "stream",
     "text": [
      "(Brute-Force method) : 3\n",
      "(Brute-Force times) : 0.007471248000001651\n",
      "(Fast method) : 3\n",
      "(Fast times) : 0.003707539000970428\n"
     ]
    }
   ],
   "source": [
    "brute_force_time = timeit.timeit(\"brute_force(items)\", globals=globals(), number=10000)\n",
    "fast_methods_time = timeit.timeit(\"fast(items)\", globals=globals(), number=10000)\n",
    "\n",
    "print(f\"(Brute-Force method) : {brute_force(items)}\")\n",
    "print(f\"(Brute-Force times) : {brute_force_time}\")\n",
    "\n",
    "\n",
    "print(f\"(Fast method) : {fast(items)}\")\n",
    "print(f\"(Fast times) : {fast_methods_time}\")"
   ]
  },
  {
   "cell_type": "code",
   "execution_count": 8,
   "id": "68b41519",
   "metadata": {},
   "outputs": [
    {
     "name": "stdout",
     "output_type": "stream",
     "text": [
      "(Brute-Force method) : 5\n",
      "(Brute-Force times) : 0.007170968001446454\n",
      "(Fast method) : 5\n",
      "(Fast times) : 0.0018768520003504818\n"
     ]
    }
   ],
   "source": [
    "# Create a random list of numbers for testing\n",
    "items = [5, 2, 2, 3, 2, 3, 5, 4, 9, 3]\n",
    "\n",
    "# time the two methods\n",
    "brute_force_time = timeit.timeit(\"brute_force(items)\", globals=globals(), number=10000)\n",
    "fast_methods_time = timeit.timeit(\"fast(items)\", globals=globals(), number=10000)\n",
    "\n",
    "print(f\"(Brute-Force method) : {brute_force(items)}\")\n",
    "print(f\"(Brute-Force times) : {brute_force_time}\")\n",
    "\n",
    "\n",
    "print(f\"(Fast method) : {fast(items)}\")\n",
    "print(f\"(Fast times) : {fast_methods_time}\")"
   ]
  },
  {
   "cell_type": "markdown",
   "id": "2105bddb",
   "metadata": {},
   "source": [
    "## Cython exercises"
   ]
  },
  {
   "cell_type": "markdown",
   "id": "a343b5a2",
   "metadata": {},
   "source": [
    "### Exercise 1"
   ]
  },
  {
   "cell_type": "markdown",
   "id": "ace90d17",
   "metadata": {},
   "source": [
    "1. load the cython extension."
   ]
  },
  {
   "cell_type": "code",
   "execution_count": 9,
   "id": "d380d0a3",
   "metadata": {},
   "outputs": [],
   "source": [
    "from Cython.Build import cythonize\n",
    "from setuptools import setup"
   ]
  },
  {
   "cell_type": "markdown",
   "id": "e88067aa",
   "metadata": {},
   "source": [
    "2. Considering the following polynomial function:"
   ]
  },
  {
   "cell_type": "code",
   "execution_count": 10,
   "id": "134d0004",
   "metadata": {},
   "outputs": [],
   "source": [
    "def poly(a,b):\n",
    "    return 5 * a + 3 * (b**2)"
   ]
  },
  {
   "cell_type": "markdown",
   "id": "b42c590f",
   "metadata": {},
   "source": [
    "- Create an equivalent Cython function of `poly` with name `poly_cy`."
   ]
  },
  {
   "cell_type": "code",
   "execution_count": 11,
   "id": "5df4d3c2",
   "metadata": {},
   "outputs": [
    {
     "data": {
      "text/plain": [
       "48.0"
      ]
     },
     "execution_count": 11,
     "metadata": {},
     "output_type": "execute_result"
    }
   ],
   "source": [
    "# def poly_cy(a,b):\n",
    "#     return 10.5 * a + 3 * (b**2)\n",
    "\n",
    "\n",
    "poly_cy(2.0, 3.0)"
   ]
  },
  {
   "cell_type": "markdown",
   "id": "20771017",
   "metadata": {},
   "source": [
    "3. time the performance of Python and Cython version of the function, what is the factor of speed up between the two verions."
   ]
  },
  {
   "cell_type": "code",
   "execution_count": 12,
   "id": "46373e13",
   "metadata": {},
   "outputs": [
    {
     "name": "stdout",
     "output_type": "stream",
     "text": [
      "Times poly_cy for Cython : 0.01828419500088785\n",
      "Times poly for python : 0.01707957299913687\n"
     ]
    }
   ],
   "source": [
    "a, b = 3.0, 4.0\n",
    "\n",
    "poly_cy_times = timeit.timeit(\"poly_cy(a, b)\", globals=globals(), number=100000)\n",
    "\n",
    "poly_times = timeit.timeit(\"poly(a, b)\", globals=globals(), number=100000)\n",
    "\n",
    "print(f\"Times poly_cy for Cython : {poly_cy_times}\")\n",
    "print(f\"Times poly for python : {poly_times}\")"
   ]
  },
  {
   "cell_type": "markdown",
   "id": "6c590ba1",
   "metadata": {},
   "source": [
    "4. Now let's work on another example using loop.\n",
    "    - rewrite the same function below fib that calculates the fibonacci sequence using cython, but now try to add type for the variables used inside it, add a prefix `_cy` to your new cython function."
   ]
  },
  {
   "cell_type": "code",
   "execution_count": 13,
   "id": "6e780a2a",
   "metadata": {},
   "outputs": [],
   "source": [
    "def fib(n):\n",
    "    a, b = 1, 1\n",
    "    for i in range(n):\n",
    "        a, b = a + b, a\n",
    "\n",
    "    return a"
   ]
  },
  {
   "cell_type": "code",
   "execution_count": 14,
   "id": "679ef27d",
   "metadata": {},
   "outputs": [],
   "source": [
    "# write your code here\n",
    "\n",
    "# fib_cy.pyx\n",
    "\n",
    "# cpdef long long  fib_cy(int n):\n",
    "#     cdef long long a, b, temp\n",
    "#     a = 0\n",
    "#     b = 1\n",
    "\n",
    "#     for i in range(n):\n",
    "#         a, b = a + b, a\n",
    "#     return a    "
   ]
  },
  {
   "cell_type": "markdown",
   "id": "50e3fdc9",
   "metadata": {},
   "source": [
    "- time the two function for fibonacci series, with n = 20, what is the factor of speed now, What do you think?"
   ]
  },
  {
   "cell_type": "code",
   "execution_count": 15,
   "id": "d90a83ed",
   "metadata": {},
   "outputs": [
    {
     "name": "stdout",
     "output_type": "stream",
     "text": [
      "Times poly_cy for Cython : 0.09132580299956317\n",
      "Times poly for python : 0.005246368998996331\n"
     ]
    }
   ],
   "source": [
    "# write your code here\n",
    "\n",
    "n = 20\n",
    "\n",
    "poly_cy_times = timeit.timeit(\"fib(n)\", globals=globals(), number=100000)\n",
    "\n",
    "poly_times = timeit.timeit(\"fib_cy(n)\", globals=globals(), number=100000)\n",
    "\n",
    "print(f\"Times poly_cy for Cython : {poly_cy_times}\")\n",
    "print(f\"Times poly for python : {poly_times}\")"
   ]
  },
  {
   "cell_type": "markdown",
   "id": "6597443f",
   "metadata": {},
   "source": [
    "5. Recursive functions are functions that call themselves during their execution. Another interesting property of the Fibonacci sequence is that it can be written as a recursive function. That’s because each item depends on the values of other items (namely item n-1 and item n-2)\n",
    "\n",
    "- Rewrite the fib function using recursion. Is it faster than the non-recursive version? Does Cythonizing it give even more of an advantage? "
   ]
  },
  {
   "cell_type": "code",
   "execution_count": 16,
   "id": "dc765886",
   "metadata": {},
   "outputs": [],
   "source": [
    "# write your code here\n",
    "def fib_recurssive(n):\n",
    "    if n <= 0 :\n",
    "        return 0\n",
    "    if n == 1 :\n",
    "        return 1\n",
    "    else:\n",
    "        return fib_recurssive(n-1) + fib_recurssive(n-2)"
   ]
  },
  {
   "cell_type": "code",
   "execution_count": 17,
   "id": "219fe9d6",
   "metadata": {},
   "outputs": [
    {
     "data": {
      "text/plain": [
       "<function __main__.fib_recurssive(n)>"
      ]
     },
     "execution_count": 17,
     "metadata": {},
     "output_type": "execute_result"
    }
   ],
   "source": [
    "fib_cy(n)\n",
    "fib_cy\n",
    "fib_recurssive"
   ]
  },
  {
   "cell_type": "code",
   "execution_count": 18,
   "id": "b76cbcfc",
   "metadata": {},
   "outputs": [
    {
     "name": "stdout",
     "output_type": "stream",
     "text": [
      "Time taken by non-recursive (Cython) version: 0.001029 seconds\n",
      "Time taken by recursive version: 14.306809 seconds\n"
     ]
    }
   ],
   "source": [
    "\n",
    "n = 20\n",
    "\n",
    "cython_time = timeit.timeit(\"fib_cy(n)\", globals=globals(), number=10000)\n",
    "\n",
    "recursive_time = timeit.timeit(\"fib_recurssive(n)\", globals=globals(), number=10000)\n",
    "\n",
    "print(f\"Time taken by non-recursive (Cython) version: {cython_time:.6f} seconds\")\n",
    "print(f\"Time taken by recursive version: {recursive_time:.6f} seconds\")"
   ]
  },
  {
   "cell_type": "markdown",
   "id": "cdd229a8",
   "metadata": {},
   "source": [
    "### Exercise 2\n",
    "\n",
    "- Monte Carlo methods are a broad class of computational algorithms that rely on repeated random sampling to obtain numerical results. \n",
    "- One of the basic examples of getting started with the Monte Carlo algorithm is the estimation of Pi.\n",
    "\n",
    "**Estimation of Pi**\n",
    "\n",
    "- The idea is to simulate random (x, y) points in a 2-D plane with domain as a square of side 1 unit. \n",
    "- Imagine a circle inside the same domain with same diameter and inscribed into the square. \n",
    "- We then calculate the ratio of number points that lied inside the circle and total number of generated points. \n",
    "- Refer to the image below:\n",
    "\n",
    "![demo](../data/MonteCarloPlot.png)\n",
    "\n",
    "We know that area of the square is 1 unit sq while that of circle is $\\pi \\ast  (\\frac{1}{2})^{2} = \\frac{\\pi}{4}$. Now for a very large number of generated points,\n",
    "\n",
    "![demo](../data/MonteCarloCalc.png)\n",
    "\n",
    "\n",
    "## The Algorithm\n",
    "\n",
    "1. Initialize cile_points, square_points and interval to 0.\n",
    "2. Generate random point x.\n",
    "3. Generate random point y.\n",
    "4. Calculate d = x*x + y*y.\n",
    "5. If d <= 1, increment circle_points.\n",
    "6. Increment square_points.\n",
    "7. Increment interval.\n",
    "8. If increment < NO_OF_ITERATIONS, repeat from 2.\n",
    "9. Calculate pi = 4*(circle_points/square_points).\n",
    "10. Terminate."
   ]
  },
  {
   "cell_type": "markdown",
   "id": "71d23d4f",
   "metadata": {},
   "source": [
    "**Your mission:** time the function `monte_carlo_pi`, identify the bottlenecks and create a new version using cython functionality to speed up monte carlo simulation for PI, use 100,000 points and compare the speed up factor between python and cython, considering the following optimizations:\n",
    "- add type for variables used.\n",
    "- add type for the function\n",
    "- use c rand function instead of python rand function.\n",
    " \n",
    "*Hint: you can import function from C libraries using the following approach `from libc.<name of c library> cimport <library function name>`, replace the holders `<>` with the right identities for the current problem*"
   ]
  },
  {
   "cell_type": "code",
   "execution_count": 19,
   "id": "85006cfe",
   "metadata": {},
   "outputs": [],
   "source": [
    "import random\n",
    "def monte_carlo_pi(nsamples):\n",
    "    pi = 0.\n",
    "    circle_points = 0\n",
    "    square_points = 0\n",
    "    interval = 0\n",
    "    for _ in range(nsamples):\n",
    "        x = np.random.uniform(0,1)\n",
    "        y = np.random.uniform(0,1)\n",
    "        d = x*x + y*y\n",
    "\n",
    "        if d <= 1 :\n",
    "            circle_points = circle_points + 1\n",
    "        square_points = square_points + 1 \n",
    "        interval = interval + 1\n",
    "\n",
    "    pi = 4 * (circle_points / square_points)\n",
    "    print(f\"Estimated pi: {pi}\")\n",
    "    return pi"
   ]
  },
  {
   "cell_type": "code",
   "execution_count": 20,
   "id": "eae16d5f",
   "metadata": {},
   "outputs": [
    {
     "name": "stdout",
     "output_type": "stream",
     "text": [
      "Estimated pi: 3.1342\n",
      "Python version: Pi estimate = 3.1342, Time taken = 0.022215 seconds\n",
      "Cython version: Pi estimate = 3.1374, Time taken = 0.006039 seconds\n"
     ]
    }
   ],
   "source": [
    "import time\n",
    "from monte_carlo_pi import monte_carlo_pi\n",
    "from monte_carlo_pi_cython import monte_carlo_pi_cython\n",
    "\n",
    "num_points = 100000\n",
    "\n",
    "# Python version\n",
    "start_time = time.time()\n",
    "result = monte_carlo_pi(num_points)\n",
    "end_time = time.time()\n",
    "print(f\"Python version: Pi estimate = {result}, Time taken = {end_time - start_time:.6f} seconds\")\n",
    "\n",
    "# Cython version\n",
    "start_time = time.time()\n",
    "result = monte_carlo_pi_cython(num_points)\n",
    "end_time = time.time()\n",
    "print(f\"Cython version: Pi estimate = {result}, Time taken = {end_time - start_time:.6f} seconds\")\n"
   ]
  },
  {
   "cell_type": "markdown",
   "id": "7cffad91",
   "metadata": {},
   "source": [
    "## Numba exercises"
   ]
  },
  {
   "cell_type": "markdown",
   "id": "5fb764ad",
   "metadata": {},
   "source": [
    "### Exercise 1\n",
    "\n",
    "Previously we considered how to approximateby Monte Carlo.\n",
    "\n",
    "- Use the same idea here, but make the code efficient using Numba.\n",
    "- Compare speed with and without Numba when the sample size is large."
   ]
  },
  {
   "cell_type": "code",
   "execution_count": 21,
   "id": "3b3720c0",
   "metadata": {},
   "outputs": [],
   "source": [
    "# Your code here"
   ]
  },
  {
   "cell_type": "markdown",
   "id": "08a72a33",
   "metadata": {},
   "source": [
    "### Exercise 2\n",
    "\n",
    "In the [Introduction to Quantitative Economics](https://python.quantecon.org/intro.html) with Python lecture series you can learn all about finite-state Markov chains.\n",
    "\n",
    "For now, let's just concentrate on simulating a very simple example of such a chain.\n",
    "\n",
    "Suppose that the volatility of returns on an asset can be in one of two regimes — high or low.\n",
    "\n",
    "The transition probabilities across states are as follows ![markov](../data/markov.png)\n",
    "\n",
    "For example, let the period length be one day, and suppose the current state is high.\n",
    "\n",
    "We see from the graph that the state tomorrow will be\n",
    "\n",
    "- high with probability 0.8\n",
    "\n",
    "- low with probability 0.2\n",
    "\n",
    "Your task is to simulate a sequence of daily volatility states according to this rule.\n",
    "\n",
    "Set the length of the sequence to `n = 1_000_000` and start in the high state.\n",
    "\n",
    "Implement a pure Python version and a Numba version, and compare speeds.\n",
    "\n",
    "To test your code, evaluate the fraction of time that the chain spends in the low state.\n",
    "\n",
    "If your code is correct, it should be about 2/3.\n",
    "\n",
    "Hints:\n",
    "\n",
    "- Represent the low state as 0 and the high state as 1.\n",
    "\n",
    "- If you want to store integers in a NumPy array and then apply JIT compilation, use `x = np.empty(n, dtype=np.int_)`.\n"
   ]
  }
 ],
 "metadata": {
  "hide_input": false,
  "kernelspec": {
   "display_name": "Python 3",
   "language": "python",
   "name": "python3"
  },
  "language_info": {
   "codemirror_mode": {
    "name": "ipython",
    "version": 3
   },
   "file_extension": ".py",
   "mimetype": "text/x-python",
   "name": "python",
   "nbconvert_exporter": "python",
   "pygments_lexer": "ipython3",
   "version": "3.10.12"
  }
 },
 "nbformat": 4,
 "nbformat_minor": 5
}
